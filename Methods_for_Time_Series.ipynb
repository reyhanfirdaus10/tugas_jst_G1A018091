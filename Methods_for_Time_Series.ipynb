{
  "nbformat": 4,
  "nbformat_minor": 0,
  "metadata": {
    "colab": {
      "name": "Methods for Time Series",
      "provenance": [],
      "collapsed_sections": []
    },
    "kernelspec": {
      "name": "python3",
      "display_name": "Python 3"
    },
    "language_info": {
      "name": "python"
    }
  },
  "cells": [
    {
      "cell_type": "code",
      "metadata": {
        "id": "qb0x8hGUznFI"
      },
      "source": [
        "\n",
        "# Time Series\n",
        "import numpy as np\n",
        "import matplotlib.pyplot as plt\n",
        "\n",
        "def create_series(df, xcol, datecol):\n",
        "    # Create a dataframe with the features and the date time as the index\n",
        "    features_considered = [xcol]\n",
        "    features = df[features_considered]\n",
        "    features.index = df[datecol]\n",
        "    features.head()\n",
        "    features.plot(subplots=True)\n",
        "    return features\n",
        "\n",
        "\n",
        "# X is the series to test\n",
        "# log_x asks whether to log X prior to testing or not\n",
        "def stationarity_test(X, log_x = \"Y\", return_p = False, print_res = True):\n",
        "    \n",
        "    # If X isn't logged, we need to log it for better results\n",
        "    if log_x == \"Y\":\n",
        "        X = np.log(X[X>0])\n",
        "    \n",
        "    # Once we have the series as needed we can do the ADF test\n",
        "    from statsmodels.tsa.stattools import adfuller\n",
        "    dickey_fuller = adfuller(X)\n",
        "    \n",
        "    if print_res:\n",
        "    # If ADF statistic is < our 1% critical value (sig level) we can conclude it's not a fluke (ie low P val / reject H(0))\n",
        "        print('ADF Stat is: {}.'.format(dickey_fuller[0]))\n",
        "        # A lower p val means we can reject the H(0) that our data is NOT stationary\n",
        "        print('P Val is: {}.'.format(dickey_fuller[1]))\n",
        "        print('Critical Values (Significance Levels): ')\n",
        "        for key,val in dickey_fuller[4].items():\n",
        "            print(key,\":\",round(val,3))\n",
        "            \n",
        "    if return_p:\n",
        "        return dickey_fuller[1]\n",
        "    \n",
        "# Differencing the data    \n",
        "def difference(X):\n",
        "    diff = X.diff()\n",
        "    plt.plot(diff)\n",
        "    plt.show()\n",
        "    return diff"
      ],
      "execution_count": 1,
      "outputs": []
    }
  ]
}