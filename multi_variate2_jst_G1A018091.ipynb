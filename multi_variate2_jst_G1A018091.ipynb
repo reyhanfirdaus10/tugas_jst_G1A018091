{
  "nbformat": 4,
  "nbformat_minor": 0,
  "metadata": {
    "colab": {
      "name": "multi_variate2_jst_G1A018091",
      "provenance": [],
      "collapsed_sections": []
    },
    "kernelspec": {
      "name": "python3",
      "display_name": "Python 3"
    },
    "language_info": {
      "name": "python"
    }
  },
  "cells": [
    {
      "cell_type": "code",
      "metadata": {
        "id": "m70JCXCzW1C1"
      },
      "source": [
        "import tensorflow as tf\n",
        "import numpy as np\n",
        "np.set_printoptions(threshold=np.inf)\n",
        "import matplotlib.pyplot as plt\n",
        "import pandas as pd\n",
        "pd.set_option('display.max_columns', None)\n",
        "pd.set_option('display.max_rows', None)\n",
        "import math\n",
        "from keras.models import Sequential\n",
        "from keras.layers import LSTM, Bidirectional, Dense"
      ],
      "execution_count": 1,
      "outputs": []
    },
    {
      "cell_type": "code",
      "metadata": {
        "colab": {
          "base_uri": "https://localhost:8080/"
        },
        "id": "z7rmYzzNXhSC",
        "outputId": "15a58bb9-cd22-4e80-fba3-fae9b2aebf1e"
      },
      "source": [
        "!wget --no-check-certificate \\https://www.kaggle.com/mczielinski/bitcoin-historical-data"
      ],
      "execution_count": 2,
      "outputs": [
        {
          "output_type": "stream",
          "text": [
            "--2021-05-23 10:03:50--  https://www.kaggle.com/mczielinski/bitcoin-historical-data\n",
            "Resolving www.kaggle.com (www.kaggle.com)... 35.244.233.98\n",
            "Connecting to www.kaggle.com (www.kaggle.com)|35.244.233.98|:443... connected.\n",
            "HTTP request sent, awaiting response... 200 OK\n",
            "Length: unspecified [text/html]\n",
            "Saving to: ‘bitcoin-historical-data’\n",
            "\n",
            "bitcoin-historical-     [ <=>                ]  62.73K  --.-KB/s    in 0.06s   \n",
            "\n",
            "2021-05-23 10:03:50 (981 KB/s) - ‘bitcoin-historical-data’ saved [64232]\n",
            "\n"
          ],
          "name": "stdout"
        }
      ]
    },
    {
      "cell_type": "code",
      "metadata": {
        "colab": {
          "base_uri": "https://localhost:8080/"
        },
        "id": "pJyCoAdHtH5p",
        "outputId": "96b548ef-eb46-49bd-aeee-d972a9614d23"
      },
      "source": [
        "from google.colab import drive\n",
        "drive.mount('/content/drive')"
      ],
      "execution_count": 10,
      "outputs": [
        {
          "output_type": "stream",
          "text": [
            "Mounted at /content/drive\n"
          ],
          "name": "stdout"
        }
      ]
    },
    {
      "cell_type": "code",
      "metadata": {
        "colab": {
          "base_uri": "https://localhost:8080/",
          "height": 145
        },
        "id": "UkwE_pP-XEGO",
        "outputId": "8ba081d9-1e54-4162-bcb2-ec4eeef97373"
      },
      "source": [
        "def preprocess_data(file_path):\n",
        "  \"\"\"function that preprocesses the data from the dataset\"\"\"\n",
        "  df = pd.read_csv(/content/drive/MyDrive/Colab Notebooks/Datasets/bitstampUSD_1-min_data_2012-01-01_to_2021-03-31.csv)\n",
        "  # Remove all NaN-containing entries\n",
        "  df = df.dropna()\n",
        "  # Reformat the timestamp\n",
        "  df['Timestamp'] = pd.to_datetime(df['Timestamp'],\n",
        "  infer_datetime_format=True, unit='s')\n",
        "  # Use the timestamp as index column\n",
        "  df = df.set_index('Timestamp')\n",
        "  # Narrow the scope of dataframe columns to work with\n",
        "  df = df.drop(['Low', 'High', 'Volume_(BTC)', 'Weighted_Price'], \n",
        "               axis=1)\n",
        "  # Reorder columns\n",
        "  df = df.reindex(columns=['Open', 'Close', 'Volume_(Currency)'])\n",
        "  # Work on a 1hour window\n",
        "  df['Open'] = df['Open'].resample('1H').first()\n",
        "  df['Close'] = df['Close'].resample('1H').last()\n",
        "  df['Volume_(Currency)'] = df['Volume_(Currency)'].resample('1H').sum()\n",
        "  # Remove all NaN-containing entries\n",
        "  df = df.dropna()\n",
        "  # Remove the first half of the dataframe (given data sparsity)\n",
        "  df = df.iloc[-int((df.shape[0]/2)):]\n",
        "  print(df.head(10))\n",
        "  print('=======================')\n",
        "  # Create the dataset (np.ndarray of \"df.shape\")\n",
        "  dataset = df.values\n",
        "  print(dataset[:10])\n",
        "  print(dataset.shape)\n",
        "  print('=======================')\n",
        "  # Standardize the dataset\n",
        "  mean = np.mean(dataset, axis=0)\n",
        "  stddev = np.std(dataset, axis=0)\n",
        "  dataset = (dataset - mean) / stddev\n",
        "  print(dataset[:10])\n",
        "  print(dataset.shape)\n",
        "  print('=======================')\n",
        "  def split_sequence(sequence, n_steps):\n",
        "    \"\"\"function that splits a dataset sequence into input data and\n",
        "    labels\"\"\"\n",
        "    X, Y = [], []\n",
        "    for i in range(sequence.shape[0]):\n",
        "      if (i + n_steps) >= sequence.shape[0]:\n",
        "        break\n",
        "      # Divide sequence between data (input) and labels (output)\n",
        "      seq_X, seq_Y = sequence[i: i + n_steps],sequence[i + n_steps, -2]\n",
        "      X.append(seq_X)\n",
        "      Y.append(seq_Y)\n",
        "    return np.array(X), np.array(Y)\n",
        "  # Create training and validation datasets\n",
        "  dataset_size = dataset.shape[0]\n",
        "  x_train, y_train = split_sequence(dataset[0: math.ceil(0.7 *\n",
        "                                    dataset_size)], 24)\n",
        "  x_val, y_val = split_sequence(dataset[math.floor(0.7 *\n",
        "                                dataset_size):], 24)\n",
        "  return dataset, df, x_train, y_train, x_val, y_val\n",
        "\n",
        "file_path = './bitstampUSD_1-min_data_2012-01-01_to_2020-04-22.csv'\n",
        "dataset, df, x_train, y_train, x_val, y_val = preprocess_data(file_path)\n",
        "print(\"dataset.shape: {}\".format(dataset.shape))\n",
        "print(\"df.shape: {}\".format(df.shape))\n",
        "print(\"x_train.shape: {}\".format(x_train.shape))\n",
        "print(\"y_train.shape: {}\".format(y_train.shape))\n",
        "print(\"x_val.shape: {}\".format(x_val.shape))\n",
        "print(\"y_val.shape: {}\".format(y_val.shape))\n",
        "print('=======================')"
      ],
      "execution_count": 11,
      "outputs": [
        {
          "output_type": "error",
          "ename": "SyntaxError",
          "evalue": "ignored",
          "traceback": [
            "\u001b[0;36m  File \u001b[0;32m\"<ipython-input-11-9a02768e875c>\"\u001b[0;36m, line \u001b[0;32m3\u001b[0m\n\u001b[0;31m    df = pd.read_csv(/content/drive/MyDrive/Colab Notebooks/Datasets/bitstampUSD_1-min_data_2012-01-01_to_2021-03-31.csv)\u001b[0m\n\u001b[0m                     ^\u001b[0m\n\u001b[0;31mSyntaxError\u001b[0m\u001b[0;31m:\u001b[0m invalid syntax\n"
          ]
        }
      ]
    }
  ]
}