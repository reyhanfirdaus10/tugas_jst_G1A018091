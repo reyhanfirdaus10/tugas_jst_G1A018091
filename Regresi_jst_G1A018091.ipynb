{
  "nbformat": 4,
  "nbformat_minor": 0,
  "metadata": {
    "colab": {
      "name": "Regresi_jst_G1A018091",
      "provenance": [],
      "collapsed_sections": []
    },
    "kernelspec": {
      "name": "python3",
      "display_name": "Python 3"
    },
    "language_info": {
      "name": "python"
    }
  },
  "cells": [
    {
      "cell_type": "code",
      "metadata": {
        "id": "C2vmLY0JRQmf"
      },
      "source": [
        "# Regression Example With Boston Dataset: Standardized and Wider\n",
        "from pandas import read_csv\n",
        "from keras.models import Sequential\n",
        "from keras.layers import Dense\n",
        "from keras.wrappers.scikit_learn import KerasRegressor\n",
        "from sklearn.model_selection import cross_val_score\n",
        "from sklearn.model_selection import KFold\n",
        "from sklearn.preprocessing import StandardScaler\n",
        "from sklearn.pipeline import Pipeline"
      ],
      "execution_count": 1,
      "outputs": []
    },
    {
      "cell_type": "code",
      "metadata": {
        "colab": {
          "base_uri": "https://localhost:8080/"
        },
        "id": "f8hGGyyqS7tW",
        "outputId": "52b83c41-ebe7-49f3-8f6b-8aad94170488"
      },
      "source": [
        "!wget --no-check-certificate \\raw.githubusercontent.com/jbrownlee/Datasets/master/housing.data"
      ],
      "execution_count": 2,
      "outputs": [
        {
          "output_type": "stream",
          "text": [
            "--2021-05-23 05:51:10--  http://raw.githubusercontent.com/jbrownlee/Datasets/master/housing.data\n",
            "Resolving raw.githubusercontent.com (raw.githubusercontent.com)... 185.199.108.133, 185.199.109.133, 185.199.110.133, ...\n",
            "Connecting to raw.githubusercontent.com (raw.githubusercontent.com)|185.199.108.133|:80... connected.\n",
            "HTTP request sent, awaiting response... 301 Moved Permanently\n",
            "Location: https://raw.githubusercontent.com/jbrownlee/Datasets/master/housing.data [following]\n",
            "--2021-05-23 05:51:10--  https://raw.githubusercontent.com/jbrownlee/Datasets/master/housing.data\n",
            "Connecting to raw.githubusercontent.com (raw.githubusercontent.com)|185.199.108.133|:443... connected.\n",
            "HTTP request sent, awaiting response... 200 OK\n",
            "Length: 49081 (48K) [text/plain]\n",
            "Saving to: ‘housing.data’\n",
            "\n",
            "housing.data        100%[===================>]  47.93K  --.-KB/s    in 0.006s  \n",
            "\n",
            "2021-05-23 05:51:11 (8.20 MB/s) - ‘housing.data’ saved [49081/49081]\n",
            "\n"
          ],
          "name": "stdout"
        }
      ]
    },
    {
      "cell_type": "code",
      "metadata": {
        "id": "rnRer2CXRc4u"
      },
      "source": [
        "# load dataset\n",
        "dataframe = read_csv(\"housing.data\", delim_whitespace=True, header=None)\n",
        "dataset = dataframe.values"
      ],
      "execution_count": 3,
      "outputs": []
    },
    {
      "cell_type": "code",
      "metadata": {
        "id": "9zN8E8-BVLTy"
      },
      "source": [
        "# split into input (X) and output (Y) variables\n",
        "X = dataset[:,0:13]\n",
        "Y = dataset[:,13]"
      ],
      "execution_count": 4,
      "outputs": []
    },
    {
      "cell_type": "code",
      "metadata": {
        "id": "XQdIdSzPTiXg"
      },
      "source": [
        "# define wider model\n",
        "def wider_model():\n",
        "\t# create model\n",
        "\tmodel = Sequential()\n",
        "\tmodel.add(Dense(20, input_dim=13, kernel_initializer='normal', activation='relu'))\n",
        "\tmodel.add(Dense(1, kernel_initializer='normal'))\n",
        "\t# Compile model\n",
        "\tmodel.compile(loss='mean_squared_error', optimizer='adam')\n",
        "\treturn model"
      ],
      "execution_count": 5,
      "outputs": []
    },
    {
      "cell_type": "code",
      "metadata": {
        "colab": {
          "base_uri": "https://localhost:8080/"
        },
        "id": "YNKfHDfXUDtL",
        "outputId": "1412d438-8311-4c85-f219-517f6409cb69"
      },
      "source": [
        "\n",
        "\n",
        "\n",
        "\n",
        "# evaluate model with standardized dataset\n",
        "estimators = []\n",
        "estimators.append(('standardize', StandardScaler()))\n",
        "estimators.append(('mlp', KerasRegressor(build_fn=wider_model, epochs=100, batch_size=5, verbose=0)))\n",
        "pipeline = Pipeline(estimators)\n",
        "kfold = KFold(n_splits=10)\n",
        "results = cross_val_score(pipeline, X, Y, cv=kfold)\n",
        "print(\"Wider: %.2f (%.2f) MSE\" % (results.mean(), results.std()))\n"
      ],
      "execution_count": 6,
      "outputs": [
        {
          "output_type": "stream",
          "text": [
            "Wider: -21.75 (23.07) MSE\n"
          ],
          "name": "stdout"
        }
      ]
    }
  ]
}